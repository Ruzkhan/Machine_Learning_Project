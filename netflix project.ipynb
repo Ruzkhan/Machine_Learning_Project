{
 "cells": [
  {
   "cell_type": "code",
   "execution_count": 1,
   "id": "b46d0123",
   "metadata": {},
   "outputs": [],
   "source": [
    "import pandas as pd\n",
    "import numpy as np\n",
    "\n",
    "import seaborn as sns\n",
    "import matplotlib.pyplot as plt\n",
    "%matplotlib inline\n",
    "\n",
    "import warnings\n",
    "warnings.filterwarnings('ignore')"
   ]
  },
  {
   "cell_type": "code",
   "execution_count": 6,
   "id": "ba2bd03c",
   "metadata": {},
   "outputs": [
    {
     "data": {
      "text/html": [
       "<div>\n",
       "<style scoped>\n",
       "    .dataframe tbody tr th:only-of-type {\n",
       "        vertical-align: middle;\n",
       "    }\n",
       "\n",
       "    .dataframe tbody tr th {\n",
       "        vertical-align: top;\n",
       "    }\n",
       "\n",
       "    .dataframe thead th {\n",
       "        text-align: right;\n",
       "    }\n",
       "</style>\n",
       "<table border=\"1\" class=\"dataframe\">\n",
       "  <thead>\n",
       "    <tr style=\"text-align: right;\">\n",
       "      <th></th>\n",
       "      <th>User ID</th>\n",
       "      <th>Subscription Type</th>\n",
       "      <th>Monthly Revenue</th>\n",
       "      <th>Join Date</th>\n",
       "      <th>Last Payment Date</th>\n",
       "      <th>Country</th>\n",
       "      <th>Age</th>\n",
       "      <th>Gender</th>\n",
       "      <th>Device</th>\n",
       "      <th>Plan Duration</th>\n",
       "    </tr>\n",
       "  </thead>\n",
       "  <tbody>\n",
       "    <tr>\n",
       "      <th>0</th>\n",
       "      <td>1</td>\n",
       "      <td>Basic</td>\n",
       "      <td>10</td>\n",
       "      <td>15-01-22</td>\n",
       "      <td>10-06-23</td>\n",
       "      <td>United States</td>\n",
       "      <td>28</td>\n",
       "      <td>Male</td>\n",
       "      <td>Smartphone</td>\n",
       "      <td>1 Month</td>\n",
       "    </tr>\n",
       "    <tr>\n",
       "      <th>1</th>\n",
       "      <td>2</td>\n",
       "      <td>Premium</td>\n",
       "      <td>15</td>\n",
       "      <td>05-09-21</td>\n",
       "      <td>22-06-23</td>\n",
       "      <td>Canada</td>\n",
       "      <td>35</td>\n",
       "      <td>Female</td>\n",
       "      <td>Tablet</td>\n",
       "      <td>1 Month</td>\n",
       "    </tr>\n",
       "    <tr>\n",
       "      <th>2</th>\n",
       "      <td>3</td>\n",
       "      <td>Standard</td>\n",
       "      <td>12</td>\n",
       "      <td>28-02-23</td>\n",
       "      <td>27-06-23</td>\n",
       "      <td>United Kingdom</td>\n",
       "      <td>42</td>\n",
       "      <td>Male</td>\n",
       "      <td>Smart TV</td>\n",
       "      <td>1 Month</td>\n",
       "    </tr>\n",
       "    <tr>\n",
       "      <th>3</th>\n",
       "      <td>4</td>\n",
       "      <td>Standard</td>\n",
       "      <td>12</td>\n",
       "      <td>10-07-22</td>\n",
       "      <td>26-06-23</td>\n",
       "      <td>Australia</td>\n",
       "      <td>51</td>\n",
       "      <td>Female</td>\n",
       "      <td>Laptop</td>\n",
       "      <td>1 Month</td>\n",
       "    </tr>\n",
       "    <tr>\n",
       "      <th>4</th>\n",
       "      <td>5</td>\n",
       "      <td>Basic</td>\n",
       "      <td>10</td>\n",
       "      <td>01-05-23</td>\n",
       "      <td>28-06-23</td>\n",
       "      <td>Germany</td>\n",
       "      <td>33</td>\n",
       "      <td>Male</td>\n",
       "      <td>Smartphone</td>\n",
       "      <td>1 Month</td>\n",
       "    </tr>\n",
       "    <tr>\n",
       "      <th>...</th>\n",
       "      <td>...</td>\n",
       "      <td>...</td>\n",
       "      <td>...</td>\n",
       "      <td>...</td>\n",
       "      <td>...</td>\n",
       "      <td>...</td>\n",
       "      <td>...</td>\n",
       "      <td>...</td>\n",
       "      <td>...</td>\n",
       "      <td>...</td>\n",
       "    </tr>\n",
       "    <tr>\n",
       "      <th>2495</th>\n",
       "      <td>2496</td>\n",
       "      <td>Premium</td>\n",
       "      <td>14</td>\n",
       "      <td>25-07-22</td>\n",
       "      <td>12-07-23</td>\n",
       "      <td>Spain</td>\n",
       "      <td>28</td>\n",
       "      <td>Female</td>\n",
       "      <td>Smart TV</td>\n",
       "      <td>1 Month</td>\n",
       "    </tr>\n",
       "    <tr>\n",
       "      <th>2496</th>\n",
       "      <td>2497</td>\n",
       "      <td>Basic</td>\n",
       "      <td>15</td>\n",
       "      <td>04-08-22</td>\n",
       "      <td>14-07-23</td>\n",
       "      <td>Spain</td>\n",
       "      <td>33</td>\n",
       "      <td>Female</td>\n",
       "      <td>Smart TV</td>\n",
       "      <td>1 Month</td>\n",
       "    </tr>\n",
       "    <tr>\n",
       "      <th>2497</th>\n",
       "      <td>2498</td>\n",
       "      <td>Standard</td>\n",
       "      <td>12</td>\n",
       "      <td>09-08-22</td>\n",
       "      <td>15-07-23</td>\n",
       "      <td>United States</td>\n",
       "      <td>38</td>\n",
       "      <td>Male</td>\n",
       "      <td>Laptop</td>\n",
       "      <td>1 Month</td>\n",
       "    </tr>\n",
       "    <tr>\n",
       "      <th>2498</th>\n",
       "      <td>2499</td>\n",
       "      <td>Standard</td>\n",
       "      <td>13</td>\n",
       "      <td>12-08-22</td>\n",
       "      <td>12-07-23</td>\n",
       "      <td>Canada</td>\n",
       "      <td>48</td>\n",
       "      <td>Female</td>\n",
       "      <td>Tablet</td>\n",
       "      <td>1 Month</td>\n",
       "    </tr>\n",
       "    <tr>\n",
       "      <th>2499</th>\n",
       "      <td>2500</td>\n",
       "      <td>Basic</td>\n",
       "      <td>15</td>\n",
       "      <td>13-08-22</td>\n",
       "      <td>12-07-23</td>\n",
       "      <td>United States</td>\n",
       "      <td>35</td>\n",
       "      <td>Female</td>\n",
       "      <td>Smart TV</td>\n",
       "      <td>1 Month</td>\n",
       "    </tr>\n",
       "  </tbody>\n",
       "</table>\n",
       "<p>2500 rows × 10 columns</p>\n",
       "</div>"
      ],
      "text/plain": [
       "      User ID Subscription Type  Monthly Revenue Join Date Last Payment Date  \\\n",
       "0           1             Basic               10  15-01-22          10-06-23   \n",
       "1           2           Premium               15  05-09-21          22-06-23   \n",
       "2           3          Standard               12  28-02-23          27-06-23   \n",
       "3           4          Standard               12  10-07-22          26-06-23   \n",
       "4           5             Basic               10  01-05-23          28-06-23   \n",
       "...       ...               ...              ...       ...               ...   \n",
       "2495     2496           Premium               14  25-07-22          12-07-23   \n",
       "2496     2497             Basic               15  04-08-22          14-07-23   \n",
       "2497     2498          Standard               12  09-08-22          15-07-23   \n",
       "2498     2499          Standard               13  12-08-22          12-07-23   \n",
       "2499     2500             Basic               15  13-08-22          12-07-23   \n",
       "\n",
       "             Country  Age  Gender      Device Plan Duration  \n",
       "0      United States   28    Male  Smartphone       1 Month  \n",
       "1             Canada   35  Female      Tablet       1 Month  \n",
       "2     United Kingdom   42    Male    Smart TV       1 Month  \n",
       "3          Australia   51  Female      Laptop       1 Month  \n",
       "4            Germany   33    Male  Smartphone       1 Month  \n",
       "...              ...  ...     ...         ...           ...  \n",
       "2495           Spain   28  Female    Smart TV       1 Month  \n",
       "2496           Spain   33  Female    Smart TV       1 Month  \n",
       "2497   United States   38    Male      Laptop       1 Month  \n",
       "2498          Canada   48  Female      Tablet       1 Month  \n",
       "2499   United States   35  Female    Smart TV       1 Month  \n",
       "\n",
       "[2500 rows x 10 columns]"
      ]
     },
     "execution_count": 6,
     "metadata": {},
     "output_type": "execute_result"
    }
   ],
   "source": [
    "#Lets load the dataset\n",
    "data=pd.read_csv(\"Netflix Userbase.csv\")\n",
    "data\n"
   ]
  },
  {
   "cell_type": "code",
   "execution_count": 7,
   "id": "865bad8a",
   "metadata": {},
   "outputs": [
    {
     "data": {
      "text/plain": [
       "(2500, 10)"
      ]
     },
     "execution_count": 7,
     "metadata": {},
     "output_type": "execute_result"
    }
   ],
   "source": [
    "#lets check the shape of dataset\n",
    "data.shape\n"
   ]
  },
  {
   "cell_type": "code",
   "execution_count": 8,
   "id": "d759f2ff",
   "metadata": {},
   "outputs": [
    {
     "data": {
      "text/plain": [
       "User ID              0\n",
       "Subscription Type    0\n",
       "Monthly Revenue      0\n",
       "Join Date            0\n",
       "Last Payment Date    0\n",
       "Country              0\n",
       "Age                  0\n",
       "Gender               0\n",
       "Device               0\n",
       "Plan Duration        0\n",
       "dtype: int64"
      ]
     },
     "execution_count": 8,
     "metadata": {},
     "output_type": "execute_result"
    }
   ],
   "source": [
    "#lets check for null value\n",
    "data.isna().sum()\n"
   ]
  },
  {
   "cell_type": "markdown",
   "id": "dc20a96e",
   "metadata": {},
   "source": [
    "So,here we don`t have null value"
   ]
  },
  {
   "cell_type": "code",
   "execution_count": 10,
   "id": "b12cb48c",
   "metadata": {},
   "outputs": [
    {
     "data": {
      "text/plain": [
       "0"
      ]
     },
     "execution_count": 10,
     "metadata": {},
     "output_type": "execute_result"
    }
   ],
   "source": [
    "#lets Check the duplicated values\n",
    "data.duplicated().sum()"
   ]
  },
  {
   "cell_type": "markdown",
   "id": "d28c2327",
   "metadata": {},
   "source": [
    "No Duplicated value"
   ]
  },
  {
   "cell_type": "code",
   "execution_count": 11,
   "id": "bf20e47c",
   "metadata": {},
   "outputs": [
    {
     "data": {
      "text/plain": [
       "User ID               int64\n",
       "Subscription Type    object\n",
       "Monthly Revenue       int64\n",
       "Join Date            object\n",
       "Last Payment Date    object\n",
       "Country              object\n",
       "Age                   int64\n",
       "Gender               object\n",
       "Device               object\n",
       "Plan Duration        object\n",
       "dtype: object"
      ]
     },
     "execution_count": 11,
     "metadata": {},
     "output_type": "execute_result"
    }
   ],
   "source": [
    "#let check the datatypes of the dataset\n",
    "data.dtypes"
   ]
  },
  {
   "cell_type": "markdown",
   "id": "a3a0852c",
   "metadata": {},
   "source": [
    "So,Here we have 3 int type columns and 7 int type columns"
   ]
  },
  {
   "cell_type": "code",
   "execution_count": 12,
   "id": "f4179073",
   "metadata": {},
   "outputs": [
    {
     "name": "stdout",
     "output_type": "stream",
     "text": [
      "<class 'pandas.core.frame.DataFrame'>\n",
      "RangeIndex: 2500 entries, 0 to 2499\n",
      "Data columns (total 10 columns):\n",
      " #   Column             Non-Null Count  Dtype \n",
      "---  ------             --------------  ----- \n",
      " 0   User ID            2500 non-null   int64 \n",
      " 1   Subscription Type  2500 non-null   object\n",
      " 2   Monthly Revenue    2500 non-null   int64 \n",
      " 3   Join Date          2500 non-null   object\n",
      " 4   Last Payment Date  2500 non-null   object\n",
      " 5   Country            2500 non-null   object\n",
      " 6   Age                2500 non-null   int64 \n",
      " 7   Gender             2500 non-null   object\n",
      " 8   Device             2500 non-null   object\n",
      " 9   Plan Duration      2500 non-null   object\n",
      "dtypes: int64(3), object(7)\n",
      "memory usage: 195.4+ KB\n"
     ]
    }
   ],
   "source": [
    "#let check the info of the dataset\n",
    "data.info()"
   ]
  },
  {
   "cell_type": "code",
   "execution_count": 13,
   "id": "9c63fc4b",
   "metadata": {},
   "outputs": [
    {
     "data": {
      "text/html": [
       "<div>\n",
       "<style scoped>\n",
       "    .dataframe tbody tr th:only-of-type {\n",
       "        vertical-align: middle;\n",
       "    }\n",
       "\n",
       "    .dataframe tbody tr th {\n",
       "        vertical-align: top;\n",
       "    }\n",
       "\n",
       "    .dataframe thead th {\n",
       "        text-align: right;\n",
       "    }\n",
       "</style>\n",
       "<table border=\"1\" class=\"dataframe\">\n",
       "  <thead>\n",
       "    <tr style=\"text-align: right;\">\n",
       "      <th></th>\n",
       "      <th>User ID</th>\n",
       "      <th>Monthly Revenue</th>\n",
       "      <th>Age</th>\n",
       "    </tr>\n",
       "  </thead>\n",
       "  <tbody>\n",
       "    <tr>\n",
       "      <th>count</th>\n",
       "      <td>2500.00000</td>\n",
       "      <td>2500.000000</td>\n",
       "      <td>2500.000000</td>\n",
       "    </tr>\n",
       "    <tr>\n",
       "      <th>mean</th>\n",
       "      <td>1250.50000</td>\n",
       "      <td>12.508400</td>\n",
       "      <td>38.795600</td>\n",
       "    </tr>\n",
       "    <tr>\n",
       "      <th>std</th>\n",
       "      <td>721.83216</td>\n",
       "      <td>1.686851</td>\n",
       "      <td>7.171778</td>\n",
       "    </tr>\n",
       "    <tr>\n",
       "      <th>min</th>\n",
       "      <td>1.00000</td>\n",
       "      <td>10.000000</td>\n",
       "      <td>26.000000</td>\n",
       "    </tr>\n",
       "    <tr>\n",
       "      <th>25%</th>\n",
       "      <td>625.75000</td>\n",
       "      <td>11.000000</td>\n",
       "      <td>32.000000</td>\n",
       "    </tr>\n",
       "    <tr>\n",
       "      <th>50%</th>\n",
       "      <td>1250.50000</td>\n",
       "      <td>12.000000</td>\n",
       "      <td>39.000000</td>\n",
       "    </tr>\n",
       "    <tr>\n",
       "      <th>75%</th>\n",
       "      <td>1875.25000</td>\n",
       "      <td>14.000000</td>\n",
       "      <td>45.000000</td>\n",
       "    </tr>\n",
       "    <tr>\n",
       "      <th>max</th>\n",
       "      <td>2500.00000</td>\n",
       "      <td>15.000000</td>\n",
       "      <td>51.000000</td>\n",
       "    </tr>\n",
       "  </tbody>\n",
       "</table>\n",
       "</div>"
      ],
      "text/plain": [
       "          User ID  Monthly Revenue          Age\n",
       "count  2500.00000      2500.000000  2500.000000\n",
       "mean   1250.50000        12.508400    38.795600\n",
       "std     721.83216         1.686851     7.171778\n",
       "min       1.00000        10.000000    26.000000\n",
       "25%     625.75000        11.000000    32.000000\n",
       "50%    1250.50000        12.000000    39.000000\n",
       "75%    1875.25000        14.000000    45.000000\n",
       "max    2500.00000        15.000000    51.000000"
      ]
     },
     "execution_count": 13,
     "metadata": {},
     "output_type": "execute_result"
    }
   ],
   "source": [
    "#let check statistical summary of the dataset\n",
    "data.describe()"
   ]
  },
  {
   "cell_type": "markdown",
   "id": "5d83c751",
   "metadata": {},
   "source": [
    "Observations\n",
    "\n",
    " No Null value \n",
    "    outliers in User Id ND Age"
   ]
  },
  {
   "cell_type": "code",
   "execution_count": 14,
   "id": "d2b1c759",
   "metadata": {},
   "outputs": [
    {
     "data": {
      "text/html": [
       "<div>\n",
       "<style scoped>\n",
       "    .dataframe tbody tr th:only-of-type {\n",
       "        vertical-align: middle;\n",
       "    }\n",
       "\n",
       "    .dataframe tbody tr th {\n",
       "        vertical-align: top;\n",
       "    }\n",
       "\n",
       "    .dataframe thead th {\n",
       "        text-align: right;\n",
       "    }\n",
       "</style>\n",
       "<table border=\"1\" class=\"dataframe\">\n",
       "  <thead>\n",
       "    <tr style=\"text-align: right;\">\n",
       "      <th></th>\n",
       "      <th>Subscription Type</th>\n",
       "      <th>Join Date</th>\n",
       "      <th>Last Payment Date</th>\n",
       "      <th>Country</th>\n",
       "      <th>Gender</th>\n",
       "      <th>Device</th>\n",
       "      <th>Plan Duration</th>\n",
       "    </tr>\n",
       "  </thead>\n",
       "  <tbody>\n",
       "    <tr>\n",
       "      <th>count</th>\n",
       "      <td>2500</td>\n",
       "      <td>2500</td>\n",
       "      <td>2500</td>\n",
       "      <td>2500</td>\n",
       "      <td>2500</td>\n",
       "      <td>2500</td>\n",
       "      <td>2500</td>\n",
       "    </tr>\n",
       "    <tr>\n",
       "      <th>unique</th>\n",
       "      <td>3</td>\n",
       "      <td>300</td>\n",
       "      <td>26</td>\n",
       "      <td>10</td>\n",
       "      <td>2</td>\n",
       "      <td>4</td>\n",
       "      <td>1</td>\n",
       "    </tr>\n",
       "    <tr>\n",
       "      <th>top</th>\n",
       "      <td>Basic</td>\n",
       "      <td>05-11-22</td>\n",
       "      <td>28-06-23</td>\n",
       "      <td>United States</td>\n",
       "      <td>Female</td>\n",
       "      <td>Laptop</td>\n",
       "      <td>1 Month</td>\n",
       "    </tr>\n",
       "    <tr>\n",
       "      <th>freq</th>\n",
       "      <td>999</td>\n",
       "      <td>33</td>\n",
       "      <td>164</td>\n",
       "      <td>451</td>\n",
       "      <td>1257</td>\n",
       "      <td>636</td>\n",
       "      <td>2500</td>\n",
       "    </tr>\n",
       "  </tbody>\n",
       "</table>\n",
       "</div>"
      ],
      "text/plain": [
       "       Subscription Type Join Date Last Payment Date        Country  Gender  \\\n",
       "count               2500      2500              2500           2500    2500   \n",
       "unique                 3       300                26             10       2   \n",
       "top                Basic  05-11-22          28-06-23  United States  Female   \n",
       "freq                 999        33               164            451    1257   \n",
       "\n",
       "        Device Plan Duration  \n",
       "count     2500          2500  \n",
       "unique       4             1  \n",
       "top     Laptop       1 Month  \n",
       "freq       636          2500  "
      ]
     },
     "execution_count": 14,
     "metadata": {},
     "output_type": "execute_result"
    }
   ],
   "source": [
    "#Lets describe the dataset with object columns\n",
    "data.describe(include='O')"
   ]
  },
  {
   "cell_type": "markdown",
   "id": "2474d4cd",
   "metadata": {},
   "source": [
    "# EDA -> Exploratory Data Analysis"
   ]
  },
  {
   "cell_type": "markdown",
   "id": "0b86a91c",
   "metadata": {},
   "source": [
    "# Univariate Analysis"
   ]
  },
  {
   "cell_type": "code",
   "execution_count": 16,
   "id": "32282246",
   "metadata": {},
   "outputs": [
    {
     "data": {
      "image/png": "[encoded data removed]",
      "text/plain": [
       "<Figure size 432x288 with 1 Axes>"
      ]
     },
     "metadata": {
      "needs_background": "light"
     },
     "output_type": "display_data"
    }
   ],
   "source": [
    "#Lets plot mileage\n",
    "sns.histplot(data['Subscription Type'],kde=False)\n",
    "plt.show()"
   ]
  },
  {
   "cell_type": "code",
   "execution_count": 19,
   "id": "4e909d04",
   "metadata": {},
   "outputs": [
    {
     "data": {
      "image/png": "[encoded data removed]",
      "text/plain": [
       "<Figure size 432x288 with 1 Axes>"
      ]
     },
     "metadata": {
      "needs_background": "light"
     },
     "output_type": "display_data"
    },
    {
     "data": {
      "text/plain": [
       "Female    1257\n",
       "Male      1243\n",
       "Name: Gender, dtype: int64"
      ]
     },
     "execution_count": 19,
     "metadata": {},
     "output_type": "execute_result"
    }
   ],
   "source": [
    "#Lets plot owner\n",
    "sns.countplot(x='Gender',data=data)\n",
    "plt.show()\n",
    "data['Gender'].value_counts()"
   ]
  },
  {
   "cell_type": "code",
   "execution_count": 20,
   "id": "6333512c",
   "metadata": {},
   "outputs": [
    {
     "data": {
      "image/png": "[encoded data removed]",
      "text/plain": [
       "<Figure size 432x288 with 1 Axes>"
      ]
     },
     "metadata": {
      "needs_background": "light"
     },
     "output_type": "display_data"
    },
    {
     "data": {
      "text/plain": [
       "Laptop        636\n",
       "Tablet        633\n",
       "Smartphone    621\n",
       "Smart TV      610\n",
       "Name: Device, dtype: int64"
      ]
     },
     "execution_count": 20,
     "metadata": {},
     "output_type": "execute_result"
    }
   ],
   "source": [
    "#Lets plot owner\n",
    "sns.countplot(x='Device',data=data)\n",
    "plt.show()\n",
    "data['Device'].value_counts()"
   ]
  },
  {
   "cell_type": "code",
   "execution_count": 22,
   "id": "cdb9657a",
   "metadata": {},
   "outputs": [
    {
     "data": {
      "image/png": "[encoded data removed]",
      "text/plain": [
       "<Figure size 432x288 with 1 Axes>"
      ]
     },
     "metadata": {
      "needs_background": "light"
     },
     "output_type": "display_data"
    },
    {
     "data": {
      "text/plain": [
       "United States     451\n",
       "Spain             451\n",
       "Canada            317\n",
       "United Kingdom    183\n",
       "Australia         183\n",
       "Germany           183\n",
       "France            183\n",
       "Brazil            183\n",
       "Mexico            183\n",
       "Italy             183\n",
       "Name: Country, dtype: int64"
      ]
     },
     "execution_count": 22,
     "metadata": {},
     "output_type": "execute_result"
    }
   ],
   "source": [
    "#Lets plot owner\n",
    "sns.countplot(x='Country',data=data)\n",
    "plt.xticks(rotation=60)\n",
    "plt.show()\n",
    "data['Country'].value_counts()"
   ]
  },
  {
   "cell_type": "markdown",
   "id": "ddab73c1",
   "metadata": {},
   "source": [
    "# Bivariate Analysis"
   ]
  },
  {
   "cell_type": "code",
   "execution_count": 27,
   "id": "731a1717",
   "metadata": {},
   "outputs": [
    {
     "data": {
      "image/png": "[encoded data removed]",
      "text/plain": [
       "<Figure size 360x360 with 1 Axes>"
      ]
     },
     "metadata": {
      "needs_background": "light"
     },
     "output_type": "display_data"
    }
   ],
   "source": [
    "#Lets Owner With km_driven\n",
    "plt.figure(figsize=(5,5))\n",
    "sns.barplot(x='Gender',y='Monthly Revenue',data=data,)\n",
    "plt.xticks(rotation=30)\n",
    "plt.show()"
   ]
  },
  {
   "cell_type": "code",
   "execution_count": 28,
   "id": "5bfed866",
   "metadata": {},
   "outputs": [
    {
     "data": {
      "image/png": "[encoded data removed]",
      "text/plain": [
       "<Figure size 360x360 with 1 Axes>"
      ]
     },
     "metadata": {
      "needs_background": "light"
     },
     "output_type": "display_data"
    }
   ],
   "source": [
    "#Lets Owner With km_driven\n",
    "plt.figure(figsize=(5,5))\n",
    "sns.barplot(x='Device',y='Monthly Revenue',data=data,)\n",
    "plt.xticks(rotation=30)\n",
    "plt.show()"
   ]
  },
  {
   "cell_type": "code",
   "execution_count": 38,
   "id": "414612ac",
   "metadata": {},
   "outputs": [
    {
     "data": {
      "image/png": "[encoded data removed]",
      "text/plain": [
       "<Figure size 432x288 with 1 Axes>"
      ]
     },
     "metadata": {
      "needs_background": "light"
     },
     "output_type": "display_data"
    },
    {
     "data": {
      "text/plain": [
       "05-11-22    33\n",
       "30-06-22    31\n",
       "16-07-22    30\n",
       "17-07-22    29\n",
       "04-11-22    29\n",
       "            ..\n",
       "21-04-22     1\n",
       "30-10-21     1\n",
       "23-11-21     1\n",
       "24-03-23     1\n",
       "15-01-22     1\n",
       "Name: Join Date, Length: 300, dtype: int64"
      ]
     },
     "execution_count": 38,
     "metadata": {},
     "output_type": "execute_result"
    }
   ],
   "source": [
    "#Lets plot owner\n",
    "sns.countplot(x='Join Date',data=data)\n",
    "plt.show()\n",
    "data['Join Date'].value_counts()"
   ]
  },
  {
   "cell_type": "markdown",
   "id": "72d34244",
   "metadata": {},
   "source": [
    "# Multivariate Analysis"
   ]
  },
  {
   "cell_type": "code",
   "execution_count": 33,
   "id": "ad64ad0c",
   "metadata": {},
   "outputs": [
    {
     "data": {
      "image/png": "[encoded data removed]",
      "text/plain": [
       "<Figure size 540x540 with 12 Axes>"
      ]
     },
     "metadata": {
      "needs_background": "light"
     },
     "output_type": "display_data"
    }
   ],
   "source": [
    "#Lets plot Pair Plor for all Continious Data\n",
    "sns.pairplot(data)\n",
    "plt.show()"
   ]
  },
  {
   "cell_type": "markdown",
   "id": "d1e7afd4",
   "metadata": {},
   "source": [
    "# Data Preprocessing"
   ]
  },
  {
   "cell_type": "code",
   "execution_count": 40,
   "id": "dceae62d",
   "metadata": {},
   "outputs": [],
   "source": [
    "data.drop(columns=['Plan Duration','Monthly Revenue'],inplace=True)"
   ]
  },
  {
   "cell_type": "markdown",
   "id": "3107a791",
   "metadata": {},
   "source": [
    "# This Columns dont participate in model building So i decided to remove both the columns"
   ]
  },
  {
   "cell_type": "code",
   "execution_count": 41,
   "id": "94e918b8",
   "metadata": {},
   "outputs": [
    {
     "data": {
      "text/plain": [
       "(2500, 8)"
      ]
     },
     "execution_count": 41,
     "metadata": {},
     "output_type": "execute_result"
    }
   ],
   "source": [
    "#Lets check the shape of the dataseta again\n",
    "data.shape"
   ]
  },
  {
   "cell_type": "code",
   "execution_count": 42,
   "id": "58045c90",
   "metadata": {},
   "outputs": [
    {
     "data": {
      "text/plain": [
       "User ID              0\n",
       "Subscription Type    0\n",
       "Join Date            0\n",
       "Last Payment Date    0\n",
       "Country              0\n",
       "Age                  0\n",
       "Gender               0\n",
       "Device               0\n",
       "dtype: int64"
      ]
     },
     "execution_count": 42,
     "metadata": {},
     "output_type": "execute_result"
    }
   ],
   "source": [
    "#Lets check for null values\n",
    "data.isna().sum()"
   ]
  },
  {
   "cell_type": "code",
   "execution_count": 43,
   "id": "019de205",
   "metadata": {},
   "outputs": [
    {
     "data": {
      "text/html": [
       "<div>\n",
       "<style scoped>\n",
       "    .dataframe tbody tr th:only-of-type {\n",
       "        vertical-align: middle;\n",
       "    }\n",
       "\n",
       "    .dataframe tbody tr th {\n",
       "        vertical-align: top;\n",
       "    }\n",
       "\n",
       "    .dataframe thead th {\n",
       "        text-align: right;\n",
       "    }\n",
       "</style>\n",
       "<table border=\"1\" class=\"dataframe\">\n",
       "  <thead>\n",
       "    <tr style=\"text-align: right;\">\n",
       "      <th></th>\n",
       "      <th>User ID</th>\n",
       "      <th>Subscription Type</th>\n",
       "      <th>Join Date</th>\n",
       "      <th>Last Payment Date</th>\n",
       "      <th>Country</th>\n",
       "      <th>Age</th>\n",
       "      <th>Gender</th>\n",
       "      <th>Device</th>\n",
       "    </tr>\n",
       "  </thead>\n",
       "  <tbody>\n",
       "    <tr>\n",
       "      <th>0</th>\n",
       "      <td>1</td>\n",
       "      <td>Basic</td>\n",
       "      <td>15-01-22</td>\n",
       "      <td>10-06-23</td>\n",
       "      <td>United States</td>\n",
       "      <td>28</td>\n",
       "      <td>Male</td>\n",
       "      <td>Smartphone</td>\n",
       "    </tr>\n",
       "    <tr>\n",
       "      <th>1</th>\n",
       "      <td>2</td>\n",
       "      <td>Premium</td>\n",
       "      <td>05-09-21</td>\n",
       "      <td>22-06-23</td>\n",
       "      <td>Canada</td>\n",
       "      <td>35</td>\n",
       "      <td>Female</td>\n",
       "      <td>Tablet</td>\n",
       "    </tr>\n",
       "    <tr>\n",
       "      <th>2</th>\n",
       "      <td>3</td>\n",
       "      <td>Standard</td>\n",
       "      <td>28-02-23</td>\n",
       "      <td>27-06-23</td>\n",
       "      <td>United Kingdom</td>\n",
       "      <td>42</td>\n",
       "      <td>Male</td>\n",
       "      <td>Smart TV</td>\n",
       "    </tr>\n",
       "    <tr>\n",
       "      <th>3</th>\n",
       "      <td>4</td>\n",
       "      <td>Standard</td>\n",
       "      <td>10-07-22</td>\n",
       "      <td>26-06-23</td>\n",
       "      <td>Australia</td>\n",
       "      <td>51</td>\n",
       "      <td>Female</td>\n",
       "      <td>Laptop</td>\n",
       "    </tr>\n",
       "    <tr>\n",
       "      <th>4</th>\n",
       "      <td>5</td>\n",
       "      <td>Basic</td>\n",
       "      <td>01-05-23</td>\n",
       "      <td>28-06-23</td>\n",
       "      <td>Germany</td>\n",
       "      <td>33</td>\n",
       "      <td>Male</td>\n",
       "      <td>Smartphone</td>\n",
       "    </tr>\n",
       "    <tr>\n",
       "      <th>5</th>\n",
       "      <td>6</td>\n",
       "      <td>Premium</td>\n",
       "      <td>18-03-22</td>\n",
       "      <td>27-06-23</td>\n",
       "      <td>France</td>\n",
       "      <td>29</td>\n",
       "      <td>Female</td>\n",
       "      <td>Smart TV</td>\n",
       "    </tr>\n",
       "    <tr>\n",
       "      <th>6</th>\n",
       "      <td>7</td>\n",
       "      <td>Standard</td>\n",
       "      <td>09-12-21</td>\n",
       "      <td>25-06-23</td>\n",
       "      <td>Brazil</td>\n",
       "      <td>46</td>\n",
       "      <td>Male</td>\n",
       "      <td>Tablet</td>\n",
       "    </tr>\n",
       "    <tr>\n",
       "      <th>7</th>\n",
       "      <td>8</td>\n",
       "      <td>Basic</td>\n",
       "      <td>02-04-23</td>\n",
       "      <td>24-06-23</td>\n",
       "      <td>Mexico</td>\n",
       "      <td>39</td>\n",
       "      <td>Female</td>\n",
       "      <td>Laptop</td>\n",
       "    </tr>\n",
       "    <tr>\n",
       "      <th>8</th>\n",
       "      <td>9</td>\n",
       "      <td>Standard</td>\n",
       "      <td>20-10-22</td>\n",
       "      <td>23-06-23</td>\n",
       "      <td>Spain</td>\n",
       "      <td>37</td>\n",
       "      <td>Male</td>\n",
       "      <td>Smartphone</td>\n",
       "    </tr>\n",
       "    <tr>\n",
       "      <th>9</th>\n",
       "      <td>10</td>\n",
       "      <td>Premium</td>\n",
       "      <td>07-01-23</td>\n",
       "      <td>22-06-23</td>\n",
       "      <td>Italy</td>\n",
       "      <td>44</td>\n",
       "      <td>Female</td>\n",
       "      <td>Smart TV</td>\n",
       "    </tr>\n",
       "  </tbody>\n",
       "</table>\n",
       "</div>"
      ],
      "text/plain": [
       "   User ID Subscription Type Join Date Last Payment Date         Country  Age  \\\n",
       "0        1             Basic  15-01-22          10-06-23   United States   28   \n",
       "1        2           Premium  05-09-21          22-06-23          Canada   35   \n",
       "2        3          Standard  28-02-23          27-06-23  United Kingdom   42   \n",
       "3        4          Standard  10-07-22          26-06-23       Australia   51   \n",
       "4        5             Basic  01-05-23          28-06-23         Germany   33   \n",
       "5        6           Premium  18-03-22          27-06-23          France   29   \n",
       "6        7          Standard  09-12-21          25-06-23          Brazil   46   \n",
       "7        8             Basic  02-04-23          24-06-23          Mexico   39   \n",
       "8        9          Standard  20-10-22          23-06-23           Spain   37   \n",
       "9       10           Premium  07-01-23          22-06-23           Italy   44   \n",
       "\n",
       "   Gender      Device  \n",
       "0    Male  Smartphone  \n",
       "1  Female      Tablet  \n",
       "2    Male    Smart TV  \n",
       "3  Female      Laptop  \n",
       "4    Male  Smartphone  \n",
       "5  Female    Smart TV  \n",
       "6    Male      Tablet  \n",
       "7  Female      Laptop  \n",
       "8    Male  Smartphone  \n",
       "9  Female    Smart TV  "
      ]
     },
     "execution_count": 43,
     "metadata": {},
     "output_type": "execute_result"
    }
   ],
   "source": [
    "#Lets plot dataset again\n",
    "data.head(10)"
   ]
  },
  {
   "cell_type": "code",
   "execution_count": 45,
   "id": "37173a18",
   "metadata": {},
   "outputs": [
    {
     "data": {
      "text/plain": [
       "{'whiskers': [<matplotlib.lines.Line2D at 0x1e2105636d0>,\n",
       "  <matplotlib.lines.Line2D at 0x1e2105639a0>],\n",
       " 'caps': [<matplotlib.lines.Line2D at 0x1e210563c70>,\n",
       "  <matplotlib.lines.Line2D at 0x1e210563f40>],\n",
       " 'boxes': [<matplotlib.lines.Line2D at 0x1e210563400>],\n",
       " 'medians': [<matplotlib.lines.Line2D at 0x1e210569250>],\n",
       " 'fliers': [<matplotlib.lines.Line2D at 0x1e210569520>],\n",
       " 'means': []}"
      ]
     },
     "execution_count": 45,
     "metadata": {},
     "output_type": "execute_result"
    },
    {
     "data": {
      "image/png": "[encoded data removed]",
      "text/plain": [
       "<Figure size 432x288 with 1 Axes>"
      ]
     },
     "metadata": {
      "needs_background": "light"
     },
     "output_type": "display_data"
    }
   ],
   "source": [
    "plt.boxplot(data['User ID'])"
   ]
  },
  {
   "cell_type": "code",
   "execution_count": null,
   "id": "4d62b000",
   "metadata": {},
   "outputs": [],
   "source": [
    "Monthly Revenue\tAge"
   ]
  },
  {
   "cell_type": "code",
   "execution_count": 49,
   "id": "687fe8b4",
   "metadata": {},
   "outputs": [
    {
     "data": {
      "text/plain": [
       "{'whiskers': [<matplotlib.lines.Line2D at 0x1e21066c310>,\n",
       "  <matplotlib.lines.Line2D at 0x1e21066c5e0>],\n",
       " 'caps': [<matplotlib.lines.Line2D at 0x1e21066c8b0>,\n",
       "  <matplotlib.lines.Line2D at 0x1e21066cb80>],\n",
       " 'boxes': [<matplotlib.lines.Line2D at 0x1e21066c040>],\n",
       " 'medians': [<matplotlib.lines.Line2D at 0x1e21066ce50>],\n",
       " 'fliers': [<matplotlib.lines.Line2D at 0x1e210687160>],\n",
       " 'means': []}"
      ]
     },
     "execution_count": 49,
     "metadata": {},
     "output_type": "execute_result"
    },
    {
     "data": {
      "image/png": "[encoded data removed]",
      "text/plain": [
       "<Figure size 432x288 with 1 Axes>"
      ]
     },
     "metadata": {
      "needs_background": "light"
     },
     "output_type": "display_data"
    }
   ],
   "source": [
    "plt.boxplot(data['Age'])"
   ]
  },
  {
   "cell_type": "markdown",
   "id": "72b45cbf",
   "metadata": {},
   "source": [
    "No Outlier in this data"
   ]
  },
  {
   "cell_type": "markdown",
   "id": "107aea96",
   "metadata": {},
   "source": [
    "# Encoding the categorical columns using Label Encoding"
   ]
  },
  {
   "cell_type": "code",
   "execution_count": 50,
   "id": "c46d70b2",
   "metadata": {},
   "outputs": [
    {
     "name": "stdout",
     "output_type": "stream",
     "text": [
      "['Subscription Type', 'Join Date', 'Last Payment Date', 'Country', 'Gender', 'Device']\n"
     ]
    }
   ],
   "source": [
    "# checking for categorical columns\n",
    "categorical_col=[]\n",
    "for i in data.dtypes.index:\n",
    "    if data.dtypes[i]=='object':\n",
    "        categorical_col.append(i)\n",
    "print(categorical_col)"
   ]
  },
  {
   "cell_type": "code",
   "execution_count": 52,
   "id": "84c3b559",
   "metadata": {},
   "outputs": [
    {
     "data": {
      "text/html": [
       "<div>\n",
       "<style scoped>\n",
       "    .dataframe tbody tr th:only-of-type {\n",
       "        vertical-align: middle;\n",
       "    }\n",
       "\n",
       "    .dataframe tbody tr th {\n",
       "        vertical-align: top;\n",
       "    }\n",
       "\n",
       "    .dataframe thead th {\n",
       "        text-align: right;\n",
       "    }\n",
       "</style>\n",
       "<table border=\"1\" class=\"dataframe\">\n",
       "  <thead>\n",
       "    <tr style=\"text-align: right;\">\n",
       "      <th></th>\n",
       "      <th>Subscription Type</th>\n",
       "      <th>Join Date</th>\n",
       "      <th>Last Payment Date</th>\n",
       "      <th>Country</th>\n",
       "      <th>Gender</th>\n",
       "      <th>Device</th>\n",
       "    </tr>\n",
       "  </thead>\n",
       "  <tbody>\n",
       "    <tr>\n",
       "      <th>0</th>\n",
       "      <td>0</td>\n",
       "      <td>142</td>\n",
       "      <td>9</td>\n",
       "      <td>9</td>\n",
       "      <td>1</td>\n",
       "      <td>2</td>\n",
       "    </tr>\n",
       "    <tr>\n",
       "      <th>1</th>\n",
       "      <td>1</td>\n",
       "      <td>45</td>\n",
       "      <td>17</td>\n",
       "      <td>2</td>\n",
       "      <td>0</td>\n",
       "      <td>3</td>\n",
       "    </tr>\n",
       "    <tr>\n",
       "      <th>2</th>\n",
       "      <td>2</td>\n",
       "      <td>267</td>\n",
       "      <td>22</td>\n",
       "      <td>8</td>\n",
       "      <td>1</td>\n",
       "      <td>1</td>\n",
       "    </tr>\n",
       "    <tr>\n",
       "      <th>3</th>\n",
       "      <td>2</td>\n",
       "      <td>95</td>\n",
       "      <td>21</td>\n",
       "      <td>0</td>\n",
       "      <td>0</td>\n",
       "      <td>0</td>\n",
       "    </tr>\n",
       "    <tr>\n",
       "      <th>4</th>\n",
       "      <td>0</td>\n",
       "      <td>1</td>\n",
       "      <td>23</td>\n",
       "      <td>4</td>\n",
       "      <td>1</td>\n",
       "      <td>2</td>\n",
       "    </tr>\n",
       "    <tr>\n",
       "      <th>...</th>\n",
       "      <td>...</td>\n",
       "      <td>...</td>\n",
       "      <td>...</td>\n",
       "      <td>...</td>\n",
       "      <td>...</td>\n",
       "      <td>...</td>\n",
       "    </tr>\n",
       "    <tr>\n",
       "      <th>2495</th>\n",
       "      <td>1</td>\n",
       "      <td>238</td>\n",
       "      <td>12</td>\n",
       "      <td>7</td>\n",
       "      <td>0</td>\n",
       "      <td>1</td>\n",
       "    </tr>\n",
       "    <tr>\n",
       "      <th>2496</th>\n",
       "      <td>0</td>\n",
       "      <td>31</td>\n",
       "      <td>14</td>\n",
       "      <td>7</td>\n",
       "      <td>0</td>\n",
       "      <td>1</td>\n",
       "    </tr>\n",
       "    <tr>\n",
       "      <th>2497</th>\n",
       "      <td>2</td>\n",
       "      <td>86</td>\n",
       "      <td>15</td>\n",
       "      <td>9</td>\n",
       "      <td>1</td>\n",
       "      <td>0</td>\n",
       "    </tr>\n",
       "    <tr>\n",
       "      <th>2498</th>\n",
       "      <td>2</td>\n",
       "      <td>119</td>\n",
       "      <td>12</td>\n",
       "      <td>2</td>\n",
       "      <td>0</td>\n",
       "      <td>3</td>\n",
       "    </tr>\n",
       "    <tr>\n",
       "      <th>2499</th>\n",
       "      <td>0</td>\n",
       "      <td>129</td>\n",
       "      <td>12</td>\n",
       "      <td>9</td>\n",
       "      <td>0</td>\n",
       "      <td>1</td>\n",
       "    </tr>\n",
       "  </tbody>\n",
       "</table>\n",
       "<p>2500 rows × 6 columns</p>\n",
       "</div>"
      ],
      "text/plain": [
       "      Subscription Type  Join Date  Last Payment Date  Country  Gender  Device\n",
       "0                     0        142                  9        9       1       2\n",
       "1                     1         45                 17        2       0       3\n",
       "2                     2        267                 22        8       1       1\n",
       "3                     2         95                 21        0       0       0\n",
       "4                     0          1                 23        4       1       2\n",
       "...                 ...        ...                ...      ...     ...     ...\n",
       "2495                  1        238                 12        7       0       1\n",
       "2496                  0         31                 14        7       0       1\n",
       "2497                  2         86                 15        9       1       0\n",
       "2498                  2        119                 12        2       0       3\n",
       "2499                  0        129                 12        9       0       1\n",
       "\n",
       "[2500 rows x 6 columns]"
      ]
     },
     "execution_count": 52,
     "metadata": {},
     "output_type": "execute_result"
    }
   ],
   "source": [
    "from sklearn.preprocessing import LabelEncoder\n",
    "LE=LabelEncoder()\n",
    "data[categorical_col]= data[categorical_col].apply(LE.fit_transform)\n",
    "data[categorical_col]"
   ]
  },
  {
   "cell_type": "markdown",
   "id": "9b89701e",
   "metadata": {},
   "source": [
    "# Correlation between the target variable and features using HEAT map"
   ]
  },
  {
   "cell_type": "code",
   "execution_count": 54,
   "id": "64bf932e",
   "metadata": {},
   "outputs": [
    {
     "data": {
      "text/html": [
       "<div>\n",
       "<style scoped>\n",
       "    .dataframe tbody tr th:only-of-type {\n",
       "        vertical-align: middle;\n",
       "    }\n",
       "\n",
       "    .dataframe tbody tr th {\n",
       "        vertical-align: top;\n",
       "    }\n",
       "\n",
       "    .dataframe thead th {\n",
       "        text-align: right;\n",
       "    }\n",
       "</style>\n",
       "<table border=\"1\" class=\"dataframe\">\n",
       "  <thead>\n",
       "    <tr style=\"text-align: right;\">\n",
       "      <th></th>\n",
       "      <th>User ID</th>\n",
       "      <th>Subscription Type</th>\n",
       "      <th>Join Date</th>\n",
       "      <th>Last Payment Date</th>\n",
       "      <th>Country</th>\n",
       "      <th>Age</th>\n",
       "      <th>Gender</th>\n",
       "      <th>Device</th>\n",
       "    </tr>\n",
       "  </thead>\n",
       "  <tbody>\n",
       "    <tr>\n",
       "      <th>User ID</th>\n",
       "      <td>1.000000</td>\n",
       "      <td>-0.000957</td>\n",
       "      <td>0.019111</td>\n",
       "      <td>-0.536967</td>\n",
       "      <td>0.071659</td>\n",
       "      <td>0.008065</td>\n",
       "      <td>-0.015089</td>\n",
       "      <td>0.031691</td>\n",
       "    </tr>\n",
       "    <tr>\n",
       "      <th>Subscription Type</th>\n",
       "      <td>-0.000957</td>\n",
       "      <td>1.000000</td>\n",
       "      <td>0.000900</td>\n",
       "      <td>-0.018089</td>\n",
       "      <td>0.200324</td>\n",
       "      <td>0.009399</td>\n",
       "      <td>0.014220</td>\n",
       "      <td>0.015147</td>\n",
       "    </tr>\n",
       "    <tr>\n",
       "      <th>Join Date</th>\n",
       "      <td>0.019111</td>\n",
       "      <td>0.000900</td>\n",
       "      <td>1.000000</td>\n",
       "      <td>-0.007476</td>\n",
       "      <td>-0.003183</td>\n",
       "      <td>0.032747</td>\n",
       "      <td>0.007772</td>\n",
       "      <td>0.030000</td>\n",
       "    </tr>\n",
       "    <tr>\n",
       "      <th>Last Payment Date</th>\n",
       "      <td>-0.536967</td>\n",
       "      <td>-0.018089</td>\n",
       "      <td>-0.007476</td>\n",
       "      <td>1.000000</td>\n",
       "      <td>-0.074066</td>\n",
       "      <td>-0.032015</td>\n",
       "      <td>-0.012561</td>\n",
       "      <td>-0.018961</td>\n",
       "    </tr>\n",
       "    <tr>\n",
       "      <th>Country</th>\n",
       "      <td>0.071659</td>\n",
       "      <td>0.200324</td>\n",
       "      <td>-0.003183</td>\n",
       "      <td>-0.074066</td>\n",
       "      <td>1.000000</td>\n",
       "      <td>0.021480</td>\n",
       "      <td>-0.004222</td>\n",
       "      <td>-0.017781</td>\n",
       "    </tr>\n",
       "    <tr>\n",
       "      <th>Age</th>\n",
       "      <td>0.008065</td>\n",
       "      <td>0.009399</td>\n",
       "      <td>0.032747</td>\n",
       "      <td>-0.032015</td>\n",
       "      <td>0.021480</td>\n",
       "      <td>1.000000</td>\n",
       "      <td>-0.039600</td>\n",
       "      <td>-0.014447</td>\n",
       "    </tr>\n",
       "    <tr>\n",
       "      <th>Gender</th>\n",
       "      <td>-0.015089</td>\n",
       "      <td>0.014220</td>\n",
       "      <td>0.007772</td>\n",
       "      <td>-0.012561</td>\n",
       "      <td>-0.004222</td>\n",
       "      <td>-0.039600</td>\n",
       "      <td>1.000000</td>\n",
       "      <td>0.008537</td>\n",
       "    </tr>\n",
       "    <tr>\n",
       "      <th>Device</th>\n",
       "      <td>0.031691</td>\n",
       "      <td>0.015147</td>\n",
       "      <td>0.030000</td>\n",
       "      <td>-0.018961</td>\n",
       "      <td>-0.017781</td>\n",
       "      <td>-0.014447</td>\n",
       "      <td>0.008537</td>\n",
       "      <td>1.000000</td>\n",
       "    </tr>\n",
       "  </tbody>\n",
       "</table>\n",
       "</div>"
      ],
      "text/plain": [
       "                    User ID  Subscription Type  Join Date  Last Payment Date  \\\n",
       "User ID            1.000000          -0.000957   0.019111          -0.536967   \n",
       "Subscription Type -0.000957           1.000000   0.000900          -0.018089   \n",
       "Join Date          0.019111           0.000900   1.000000          -0.007476   \n",
       "Last Payment Date -0.536967          -0.018089  -0.007476           1.000000   \n",
       "Country            0.071659           0.200324  -0.003183          -0.074066   \n",
       "Age                0.008065           0.009399   0.032747          -0.032015   \n",
       "Gender            -0.015089           0.014220   0.007772          -0.012561   \n",
       "Device             0.031691           0.015147   0.030000          -0.018961   \n",
       "\n",
       "                    Country       Age    Gender    Device  \n",
       "User ID            0.071659  0.008065 -0.015089  0.031691  \n",
       "Subscription Type  0.200324  0.009399  0.014220  0.015147  \n",
       "Join Date         -0.003183  0.032747  0.007772  0.030000  \n",
       "Last Payment Date -0.074066 -0.032015 -0.012561 -0.018961  \n",
       "Country            1.000000  0.021480 -0.004222 -0.017781  \n",
       "Age                0.021480  1.000000 -0.039600 -0.014447  \n",
       "Gender            -0.004222 -0.039600  1.000000  0.008537  \n",
       "Device            -0.017781 -0.014447  0.008537  1.000000  "
      ]
     },
     "execution_count": 54,
     "metadata": {},
     "output_type": "execute_result"
    }
   ],
   "source": [
    "# Checking the correlation\n",
    "cor = data.corr()\n",
    "cor"
   ]
  },
  {
   "cell_type": "code",
   "execution_count": 55,
   "id": "ad92179e",
   "metadata": {},
   "outputs": [
    {
     "data": {
      "image/png": "[encoded data removed]",
      "text/plain": [
       "<Figure size 1800x1584 with 2 Axes>"
      ]
     },
     "metadata": {
      "needs_background": "light"
     },
     "output_type": "display_data"
    }
   ],
   "source": [
    "# Visualizing the correlation matrix by plotting heat map.\n",
    "plt.figure(figsize=(25,22))\n",
    "sns.heatmap(data.corr(),linewidths=.1,vmin=-1, vmax=1, fmt='.2g', annot = True, linecolor=\"black\",annot_kws={'size':15},cmap=\"YlGnBu\")\n",
    "plt.yticks(rotation=0);"
   ]
  },
  {
   "cell_type": "markdown",
   "id": "4cff0094",
   "metadata": {},
   "source": [
    "# Visualizing the correlation between label(primary_fuel) and features using bar plot"
   ]
  },
  {
   "cell_type": "code",
   "execution_count": 58,
   "id": "251871a1",
   "metadata": {},
   "outputs": [
    {
     "data": {
      "image/png": "[encoded data removed]",
      "text/plain": [
       "<Figure size 1584x504 with 1 Axes>"
      ]
     },
     "metadata": {
      "needs_background": "light"
     },
     "output_type": "display_data"
    }
   ],
   "source": [
    "plt.figure(figsize=(22,7))\n",
    "data.corr()['Subscription Type'].sort_values(ascending=False).drop(['Subscription Type']).plot(kind='bar',color='c')\n",
    "plt.xlabel('Feature',fontsize=10)\n",
    "plt.ylabel('target',fontsize=10)\n",
    "plt.title('correlation between label and feature using bar plot',fontsize=20)\n",
    "plt.show()"
   ]
  },
  {
   "cell_type": "markdown",
   "id": "d977298d",
   "metadata": {},
   "source": [
    "# Model Building"
   ]
  },
  {
   "cell_type": "code",
   "execution_count": 60,
   "id": "f3712af6",
   "metadata": {},
   "outputs": [],
   "source": [
    "x = data.drop(\"Subscription Type\", axis=1)\n",
    "y = data[\"Subscription Type\"]"
   ]
  },
  {
   "cell_type": "code",
   "execution_count": 61,
   "id": "bc5b2563",
   "metadata": {},
   "outputs": [
    {
     "data": {
      "text/plain": [
       "(2500, 7)"
      ]
     },
     "execution_count": 61,
     "metadata": {},
     "output_type": "execute_result"
    }
   ],
   "source": [
    "#Lets check for the shape of the x\n",
    "x.shape"
   ]
  },
  {
   "cell_type": "code",
   "execution_count": 62,
   "id": "76812168",
   "metadata": {},
   "outputs": [
    {
     "data": {
      "text/plain": [
       "(2500,)"
      ]
     },
     "execution_count": 62,
     "metadata": {},
     "output_type": "execute_result"
    }
   ],
   "source": [
    "#Lets check for the shape of y\n",
    "y.shape"
   ]
  },
  {
   "cell_type": "markdown",
   "id": "72fde33c",
   "metadata": {},
   "source": [
    "# Checking for skewness"
   ]
  },
  {
   "cell_type": "code",
   "execution_count": 63,
   "id": "f1f30471",
   "metadata": {},
   "outputs": [
    {
     "data": {
      "text/plain": [
       "User ID              0.000000\n",
       "Join Date            0.049197\n",
       "Last Payment Date    0.318042\n",
       "Country             -0.227305\n",
       "Age                  0.028770\n",
       "Gender               0.011207\n",
       "Device              -0.003528\n",
       "dtype: float64"
      ]
     },
     "execution_count": 63,
     "metadata": {},
     "output_type": "execute_result"
    }
   ],
   "source": [
    "x.skew()"
   ]
  },
  {
   "cell_type": "markdown",
   "id": "453b6337",
   "metadata": {},
   "source": [
    "Here , i am setting the threshold for +/-1"
   ]
  },
  {
   "cell_type": "markdown",
   "id": "f01598b1",
   "metadata": {},
   "source": [
    "# Feature Scaling"
   ]
  },
  {
   "cell_type": "code",
   "execution_count": 64,
   "id": "423de7f1",
   "metadata": {},
   "outputs": [
    {
     "data": {
      "text/html": [
       "<div>\n",
       "<style scoped>\n",
       "    .dataframe tbody tr th:only-of-type {\n",
       "        vertical-align: middle;\n",
       "    }\n",
       "\n",
       "    .dataframe tbody tr th {\n",
       "        vertical-align: top;\n",
       "    }\n",
       "\n",
       "    .dataframe thead th {\n",
       "        text-align: right;\n",
       "    }\n",
       "</style>\n",
       "<table border=\"1\" class=\"dataframe\">\n",
       "  <thead>\n",
       "    <tr style=\"text-align: right;\">\n",
       "      <th></th>\n",
       "      <th>User ID</th>\n",
       "      <th>Join Date</th>\n",
       "      <th>Last Payment Date</th>\n",
       "      <th>Country</th>\n",
       "      <th>Age</th>\n",
       "      <th>Gender</th>\n",
       "      <th>Device</th>\n",
       "    </tr>\n",
       "  </thead>\n",
       "  <tbody>\n",
       "    <tr>\n",
       "      <th>0</th>\n",
       "      <td>-1.731358</td>\n",
       "      <td>-0.069858</td>\n",
       "      <td>-0.298513</td>\n",
       "      <td>1.306577</td>\n",
       "      <td>-1.505590</td>\n",
       "      <td>1.005616</td>\n",
       "      <td>0.444163</td>\n",
       "    </tr>\n",
       "    <tr>\n",
       "      <th>1</th>\n",
       "      <td>-1.729972</td>\n",
       "      <td>-1.169969</td>\n",
       "      <td>0.640945</td>\n",
       "      <td>-1.048464</td>\n",
       "      <td>-0.529347</td>\n",
       "      <td>-0.994416</td>\n",
       "      <td>1.333202</td>\n",
       "    </tr>\n",
       "    <tr>\n",
       "      <th>2</th>\n",
       "      <td>-1.728587</td>\n",
       "      <td>1.347810</td>\n",
       "      <td>1.228106</td>\n",
       "      <td>0.970142</td>\n",
       "      <td>0.446896</td>\n",
       "      <td>1.005616</td>\n",
       "      <td>-0.444875</td>\n",
       "    </tr>\n",
       "    <tr>\n",
       "      <th>3</th>\n",
       "      <td>-1.727201</td>\n",
       "      <td>-0.602901</td>\n",
       "      <td>1.110674</td>\n",
       "      <td>-1.721333</td>\n",
       "      <td>1.702066</td>\n",
       "      <td>-0.994416</td>\n",
       "      <td>-1.333913</td>\n",
       "    </tr>\n",
       "    <tr>\n",
       "      <th>4</th>\n",
       "      <td>-1.725816</td>\n",
       "      <td>-1.668988</td>\n",
       "      <td>1.345538</td>\n",
       "      <td>-0.375595</td>\n",
       "      <td>-0.808274</td>\n",
       "      <td>1.005616</td>\n",
       "      <td>0.444163</td>\n",
       "    </tr>\n",
       "  </tbody>\n",
       "</table>\n",
       "</div>"
      ],
      "text/plain": [
       "    User ID  Join Date  Last Payment Date   Country       Age    Gender  \\\n",
       "0 -1.731358  -0.069858          -0.298513  1.306577 -1.505590  1.005616   \n",
       "1 -1.729972  -1.169969           0.640945 -1.048464 -0.529347 -0.994416   \n",
       "2 -1.728587   1.347810           1.228106  0.970142  0.446896  1.005616   \n",
       "3 -1.727201  -0.602901           1.110674 -1.721333  1.702066 -0.994416   \n",
       "4 -1.725816  -1.668988           1.345538 -0.375595 -0.808274  1.005616   \n",
       "\n",
       "     Device  \n",
       "0  0.444163  \n",
       "1  1.333202  \n",
       "2 -0.444875  \n",
       "3 -1.333913  \n",
       "4  0.444163  "
      ]
     },
     "execution_count": 64,
     "metadata": {},
     "output_type": "execute_result"
    }
   ],
   "source": [
    "from sklearn.preprocessing import StandardScaler\n",
    "scaler = StandardScaler()\n",
    "x = pd.DataFrame(scaler.fit_transform(x), columns=x.columns)\n",
    "x.head()"
   ]
  },
  {
   "cell_type": "markdown",
   "id": "6fde670d",
   "metadata": {},
   "source": [
    "# Checking VIF- Variance Inflation Factor values"
   ]
  },
  {
   "cell_type": "code",
   "execution_count": 65,
   "id": "a56f58ce",
   "metadata": {},
   "outputs": [
    {
     "data": {
      "text/html": [
       "<div>\n",
       "<style scoped>\n",
       "    .dataframe tbody tr th:only-of-type {\n",
       "        vertical-align: middle;\n",
       "    }\n",
       "\n",
       "    .dataframe tbody tr th {\n",
       "        vertical-align: top;\n",
       "    }\n",
       "\n",
       "    .dataframe thead th {\n",
       "        text-align: right;\n",
       "    }\n",
       "</style>\n",
       "<table border=\"1\" class=\"dataframe\">\n",
       "  <thead>\n",
       "    <tr style=\"text-align: right;\">\n",
       "      <th></th>\n",
       "      <th>VIF values</th>\n",
       "      <th>Features</th>\n",
       "    </tr>\n",
       "  </thead>\n",
       "  <tbody>\n",
       "    <tr>\n",
       "      <th>0</th>\n",
       "      <td>1.409754</td>\n",
       "      <td>User ID</td>\n",
       "    </tr>\n",
       "    <tr>\n",
       "      <th>1</th>\n",
       "      <td>1.002452</td>\n",
       "      <td>Join Date</td>\n",
       "    </tr>\n",
       "    <tr>\n",
       "      <th>2</th>\n",
       "      <td>1.410104</td>\n",
       "      <td>Last Payment Date</td>\n",
       "    </tr>\n",
       "    <tr>\n",
       "      <th>3</th>\n",
       "      <td>1.007781</td>\n",
       "      <td>Country</td>\n",
       "    </tr>\n",
       "    <tr>\n",
       "      <th>4</th>\n",
       "      <td>1.004486</td>\n",
       "      <td>Age</td>\n",
       "    </tr>\n",
       "    <tr>\n",
       "      <th>5</th>\n",
       "      <td>1.002624</td>\n",
       "      <td>Gender</td>\n",
       "    </tr>\n",
       "    <tr>\n",
       "      <th>6</th>\n",
       "      <td>1.002585</td>\n",
       "      <td>Device</td>\n",
       "    </tr>\n",
       "  </tbody>\n",
       "</table>\n",
       "</div>"
      ],
      "text/plain": [
       "   VIF values           Features\n",
       "0    1.409754            User ID\n",
       "1    1.002452          Join Date\n",
       "2    1.410104  Last Payment Date\n",
       "3    1.007781            Country\n",
       "4    1.004486                Age\n",
       "5    1.002624             Gender\n",
       "6    1.002585             Device"
      ]
     },
     "execution_count": 65,
     "metadata": {},
     "output_type": "execute_result"
    }
   ],
   "source": [
    "from statsmodels.stats.outliers_influence import variance_inflation_factor\n",
    "vif = pd.DataFrame()\n",
    "vif[\"VIF values\"] = [variance_inflation_factor(x.values,i)\n",
    "              for i in range(len(x.columns))]\n",
    "vif[\"Features\"] = x.columns\n",
    "\n",
    "# Let's check the values\n",
    "vif"
   ]
  },
  {
   "cell_type": "markdown",
   "id": "0777bc73",
   "metadata": {},
   "source": [
    "# Lets Build Model"
   ]
  },
  {
   "cell_type": "code",
   "execution_count": 67,
   "id": "28c5283e",
   "metadata": {},
   "outputs": [],
   "source": [
    "#Lets create with random forest\n",
    "from sklearn.model_selection import train_test_split\n",
    "from sklearn.linear_model import LinearRegression\n",
    "from sklearn.model_selection import cross_val_score\n",
    "from sklearn.metrics import mean_absolute_error,mean_squared_error,r2_score"
   ]
  },
  {
   "cell_type": "code",
   "execution_count": 68,
   "id": "03cbed57",
   "metadata": {},
   "outputs": [
    {
     "name": "stdout",
     "output_type": "stream",
     "text": [
      "Best r2 score is 0.07947542240645034 on Random State 722\n"
     ]
    }
   ],
   "source": [
    "# finding Best Random state\n",
    "maxAccu=0\n",
    "maxRS=0\n",
    "\n",
    "for i in range(1, 1000):\n",
    "    X_train, X_test, y_train, y_test = train_test_split(x, y, test_size=0.2, random_state=i)\n",
    "    lr = LinearRegression()\n",
    "    lr.fit(X_train, y_train)\n",
    "    pred = lr.predict(X_test)\n",
    "    r2 = r2_score(y_test, pred)\n",
    "    \n",
    "    if r2>maxAccu:\n",
    "        maxAccu=r2\n",
    "        maxRS=i\n",
    "\n",
    "print(\"Best r2 score is\", maxAccu,\"on Random State\", maxRS)"
   ]
  },
  {
   "cell_type": "code",
   "execution_count": 70,
   "id": "bff7ec73",
   "metadata": {},
   "outputs": [],
   "source": [
    "# Splitting the data into train and test\n",
    "X_train, X_test, y_train, y_test = train_test_split(x, y, test_size=0.2, random_state=463)"
   ]
  },
  {
   "cell_type": "code",
   "execution_count": 71,
   "id": "4d9f6711",
   "metadata": {},
   "outputs": [
    {
     "data": {
      "text/html": [
       "<div>\n",
       "<style scoped>\n",
       "    .dataframe tbody tr th:only-of-type {\n",
       "        vertical-align: middle;\n",
       "    }\n",
       "\n",
       "    .dataframe tbody tr th {\n",
       "        vertical-align: top;\n",
       "    }\n",
       "\n",
       "    .dataframe thead th {\n",
       "        text-align: right;\n",
       "    }\n",
       "</style>\n",
       "<table border=\"1\" class=\"dataframe\">\n",
       "  <thead>\n",
       "    <tr style=\"text-align: right;\">\n",
       "      <th></th>\n",
       "      <th>MAE</th>\n",
       "      <th>MSE</th>\n",
       "      <th>RMSE</th>\n",
       "      <th>R2-score</th>\n",
       "    </tr>\n",
       "  </thead>\n",
       "  <tbody>\n",
       "    <tr>\n",
       "      <th>Random Forest</th>\n",
       "      <td>0.71</td>\n",
       "      <td>0.66</td>\n",
       "      <td>0.81226</td>\n",
       "      <td>0.026</td>\n",
       "    </tr>\n",
       "  </tbody>\n",
       "</table>\n",
       "</div>"
      ],
      "text/plain": [
       "                MAE   MSE     RMSE  R2-score\n",
       "Random Forest  0.71  0.66  0.81226     0.026"
      ]
     },
     "execution_count": 71,
     "metadata": {},
     "output_type": "execute_result"
    }
   ],
   "source": [
    "regressors = {\n",
    "    \n",
    "    'Random Forest' : LinearRegression(),\n",
    "    \n",
    "}\n",
    "\n",
    "results=pd.DataFrame(columns=['MAE','MSE', 'RMSE', 'R2-score'])\n",
    "\n",
    "for method,func in regressors.items():\n",
    "    model = func.fit(X_train,y_train)\n",
    "    pred = model.predict(X_test)\n",
    "    results.loc[method]= [np.round(mean_absolute_error(y_test,pred),3),\n",
    "                          np.round(mean_squared_error(y_test,pred),3),\n",
    "                          np.sqrt(mean_squared_error(y_test,pred)),\n",
    "                          np.round(r2_score(y_test,pred),3)\n",
    "                          \n",
    "                         ]\n",
    "results\n"
   ]
  },
  {
   "cell_type": "code",
   "execution_count": 72,
   "id": "de921f06",
   "metadata": {},
   "outputs": [
    {
     "data": {
      "image/png": "[encoded data removed]",
      "text/plain": [
       "<Figure size 432x288 with 1 Axes>"
      ]
     },
     "metadata": {
      "needs_background": "light"
     },
     "output_type": "display_data"
    }
   ],
   "source": [
    "plt.scatter(y_test,pred)\n",
    "plt.xlabel('Actual Data')\n",
    "plt.ylabel('Predicted Data')\n",
    "plt.title('Linear Regression Graph')\n",
    "plt.tight_layout()"
   ]
  },
  {
   "cell_type": "code",
   "execution_count": 73,
   "id": "bec9ebbc",
   "metadata": {},
   "outputs": [],
   "source": [
    "lr = LinearRegression()\n",
    "lr.fit(X_train,y_train)\n",
    "y_pred = lr.predict(X_test)\n",
    "lss  = r2_score(y_test,y_pred)"
   ]
  },
  {
   "cell_type": "code",
   "execution_count": 74,
   "id": "3fccc7b2",
   "metadata": {},
   "outputs": [
    {
     "name": "stdout",
     "output_type": "stream",
     "text": [
      "At cv:- 2\n",
      "Cross validation score is:- -2.2101337230280684\n",
      "accuracy_score is:- 2.642885810006701\n",
      "\n",
      "\n",
      "At cv:- 3\n",
      "Cross validation score is:- 2.346211006126557\n",
      "accuracy_score is:- 2.642885810006701\n",
      "\n",
      "\n",
      "At cv:- 4\n",
      "Cross validation score is:- 3.098535998834362\n",
      "accuracy_score is:- 2.642885810006701\n",
      "\n",
      "\n",
      "At cv:- 5\n",
      "Cross validation score is:- 3.3202024215390447\n",
      "accuracy_score is:- 2.642885810006701\n",
      "\n",
      "\n",
      "At cv:- 6\n",
      "Cross validation score is:- 3.694845304865916\n",
      "accuracy_score is:- 2.642885810006701\n",
      "\n",
      "\n",
      "At cv:- 7\n",
      "Cross validation score is:- 3.60732892491943\n",
      "accuracy_score is:- 2.642885810006701\n",
      "\n",
      "\n",
      "At cv:- 8\n",
      "Cross validation score is:- 3.6371611615194683\n",
      "accuracy_score is:- 2.642885810006701\n",
      "\n",
      "\n",
      "At cv:- 9\n",
      "Cross validation score is:- 3.6760820256345563\n",
      "accuracy_score is:- 2.642885810006701\n",
      "\n",
      "\n"
     ]
    }
   ],
   "source": [
    "# from sklearn.model_selection import cross_val_score\n",
    "for j in range(2,10):\n",
    "    isscore = cross_val_score(lr,x,y,cv=j)\n",
    "    lsc = isscore.mean()\n",
    "    print(\"At cv:-\",j)\n",
    "    print('Cross validation score is:-',lsc*100)\n",
    "    print('accuracy_score is:-',lss*100)\n",
    "    print('\\n')"
   ]
  },
  {
   "cell_type": "markdown",
   "id": "955349de",
   "metadata": {},
   "source": [
    "# Lets do Hyperparameter Tuning"
   ]
  },
  {
   "cell_type": "code",
   "execution_count": 75,
   "id": "f45df713",
   "metadata": {},
   "outputs": [],
   "source": [
    "from sklearn.linear_model import Ridge,Lasso,RidgeCV,LassoCV"
   ]
  },
  {
   "cell_type": "code",
   "execution_count": 76,
   "id": "866ec218",
   "metadata": {},
   "outputs": [
    {
     "data": {
      "text/plain": [
       "LassoCV(max_iter=100, normalize=True)"
      ]
     },
     "execution_count": 76,
     "metadata": {},
     "output_type": "execute_result"
    }
   ],
   "source": [
    "lasscv=LassoCV(alphas = None , max_iter =100,normalize=True)\n",
    "lasscv.fit(X_train,y_train)"
   ]
  },
  {
   "cell_type": "code",
   "execution_count": 77,
   "id": "eaa39a35",
   "metadata": {},
   "outputs": [
    {
     "data": {
      "text/plain": [
       "0.0005676263949409179"
      ]
     },
     "execution_count": 77,
     "metadata": {},
     "output_type": "execute_result"
    }
   ],
   "source": [
    "#best alpha paremetere\n",
    "alpha=lasscv.alpha_\n",
    "alpha"
   ]
  },
  {
   "cell_type": "code",
   "execution_count": 78,
   "id": "be1fa1d8",
   "metadata": {},
   "outputs": [
    {
     "data": {
      "text/plain": [
       "Lasso(alpha=0.0005676263949409179)"
      ]
     },
     "execution_count": 78,
     "metadata": {},
     "output_type": "execute_result"
    }
   ],
   "source": [
    "#Now that we have best parameter,Lets use Lasso regression and see how well our data has fitted before\n",
    "lasso_reg=Lasso(alpha)\n",
    "lasso_reg.fit(X_train,y_train)"
   ]
  },
  {
   "cell_type": "code",
   "execution_count": 79,
   "id": "4cb2b2c3",
   "metadata": {},
   "outputs": [
    {
     "data": {
      "text/plain": [
       "0.026482782722828002"
      ]
     },
     "execution_count": 79,
     "metadata": {},
     "output_type": "execute_result"
    }
   ],
   "source": [
    "lasso_reg.score(X_test,y_test)"
   ]
  },
  {
   "cell_type": "markdown",
   "id": "8950f786",
   "metadata": {},
   "source": [
    "# Ridge will return best alpha and coefficients after performing 10 Cross validation."
   ]
  },
  {
   "cell_type": "code",
   "execution_count": 80,
   "id": "88b0f164",
   "metadata": {},
   "outputs": [
    {
     "data": {
      "text/plain": [
       "RidgeCV(alphas=array([0.001, 0.011, 0.021, 0.031, 0.041, 0.051, 0.061, 0.071, 0.081,\n",
       "       0.091]),\n",
       "        normalize=True)"
      ]
     },
     "execution_count": 80,
     "metadata": {},
     "output_type": "execute_result"
    }
   ],
   "source": [
    "# Ridge will return best alpha and coefficients after performing 10 Cross validation\n",
    "\n",
    "ridgecv=RidgeCV(alphas =np.arange(0.001,0.1,0.01),normalize=True)\n",
    "ridgecv.fit(X_train,y_train)"
   ]
  },
  {
   "cell_type": "code",
   "execution_count": 81,
   "id": "86ba4d31",
   "metadata": {},
   "outputs": [
    {
     "data": {
      "text/plain": [
       "0.09099999999999998"
      ]
     },
     "execution_count": 81,
     "metadata": {},
     "output_type": "execute_result"
    }
   ],
   "source": [
    "\n",
    "ridgecv.alpha_"
   ]
  },
  {
   "cell_type": "code",
   "execution_count": 82,
   "id": "5664d96f",
   "metadata": {},
   "outputs": [
    {
     "data": {
      "text/plain": [
       "Ridge(alpha=0.09099999999999998)"
      ]
     },
     "execution_count": 82,
     "metadata": {},
     "output_type": "execute_result"
    }
   ],
   "source": [
    "ridge_model = Ridge(alpha=ridgecv.alpha_)\n",
    "ridge_model.fit(X_train,y_train)"
   ]
  },
  {
   "cell_type": "code",
   "execution_count": 83,
   "id": "5ef95708",
   "metadata": {},
   "outputs": [
    {
     "data": {
      "text/plain": [
       "0.02642891557776683"
      ]
     },
     "execution_count": 83,
     "metadata": {},
     "output_type": "execute_result"
    }
   ],
   "source": [
    "ridge_model.score(X_test,y_test)"
   ]
  },
  {
   "cell_type": "code",
   "execution_count": 84,
   "id": "c521a632",
   "metadata": {},
   "outputs": [],
   "source": [
    "import pickle\n",
    "filename=('Pranathi Linear Regression Project 1.0')\n",
    "pickle.dump(lr,open(filename,'wb'))"
   ]
  },
  {
   "cell_type": "code",
   "execution_count": 85,
   "id": "bc45d2cd",
   "metadata": {},
   "outputs": [
    {
     "name": "stdout",
     "output_type": "stream",
     "text": [
      "2.642885810006701\n"
     ]
    }
   ],
   "source": [
    "loaded_model=pickle.load(open('Pranathi Linear Regression Project 1.0','rb'))\n",
    "result=loaded_model.score(X_test,y_test)\n",
    "print(result*100)"
   ]
  },
  {
   "cell_type": "code",
   "execution_count": 86,
   "id": "5204612f",
   "metadata": {},
   "outputs": [
    {
     "data": {
      "text/html": [
       "<div>\n",
       "<style scoped>\n",
       "    .dataframe tbody tr th:only-of-type {\n",
       "        vertical-align: middle;\n",
       "    }\n",
       "\n",
       "    .dataframe tbody tr th {\n",
       "        vertical-align: top;\n",
       "    }\n",
       "\n",
       "    .dataframe thead th {\n",
       "        text-align: right;\n",
       "    }\n",
       "</style>\n",
       "<table border=\"1\" class=\"dataframe\">\n",
       "  <thead>\n",
       "    <tr style=\"text-align: right;\">\n",
       "      <th></th>\n",
       "      <th>0</th>\n",
       "      <th>1</th>\n",
       "      <th>2</th>\n",
       "      <th>3</th>\n",
       "      <th>4</th>\n",
       "      <th>5</th>\n",
       "      <th>6</th>\n",
       "      <th>7</th>\n",
       "      <th>8</th>\n",
       "      <th>9</th>\n",
       "      <th>...</th>\n",
       "      <th>1990</th>\n",
       "      <th>1991</th>\n",
       "      <th>1992</th>\n",
       "      <th>1993</th>\n",
       "      <th>1994</th>\n",
       "      <th>1995</th>\n",
       "      <th>1996</th>\n",
       "      <th>1997</th>\n",
       "      <th>1998</th>\n",
       "      <th>1999</th>\n",
       "    </tr>\n",
       "  </thead>\n",
       "  <tbody>\n",
       "    <tr>\n",
       "      <th>predicted</th>\n",
       "      <td>0.954132</td>\n",
       "      <td>0.757066</td>\n",
       "      <td>0.644136</td>\n",
       "      <td>0.768893</td>\n",
       "      <td>0.636063</td>\n",
       "      <td>0.675893</td>\n",
       "      <td>0.752013</td>\n",
       "      <td>1.006547</td>\n",
       "      <td>1.146262</td>\n",
       "      <td>1.010040</td>\n",
       "      <td>...</td>\n",
       "      <td>1.04715</td>\n",
       "      <td>0.838355</td>\n",
       "      <td>1.158707</td>\n",
       "      <td>1.006676</td>\n",
       "      <td>1.096211</td>\n",
       "      <td>0.839612</td>\n",
       "      <td>0.938632</td>\n",
       "      <td>1.02734</td>\n",
       "      <td>0.854552</td>\n",
       "      <td>0.61861</td>\n",
       "    </tr>\n",
       "    <tr>\n",
       "      <th>original</th>\n",
       "      <td>0.865424</td>\n",
       "      <td>0.961847</td>\n",
       "      <td>1.084066</td>\n",
       "      <td>0.861215</td>\n",
       "      <td>0.797719</td>\n",
       "      <td>1.065982</td>\n",
       "      <td>0.675254</td>\n",
       "      <td>1.108805</td>\n",
       "      <td>0.700136</td>\n",
       "      <td>0.690437</td>\n",
       "      <td>...</td>\n",
       "      <td>NaN</td>\n",
       "      <td>NaN</td>\n",
       "      <td>NaN</td>\n",
       "      <td>NaN</td>\n",
       "      <td>NaN</td>\n",
       "      <td>NaN</td>\n",
       "      <td>NaN</td>\n",
       "      <td>NaN</td>\n",
       "      <td>NaN</td>\n",
       "      <td>NaN</td>\n",
       "    </tr>\n",
       "  </tbody>\n",
       "</table>\n",
       "<p>2 rows × 2000 columns</p>\n",
       "</div>"
      ],
      "text/plain": [
       "               0         1         2         3         4         5     \\\n",
       "predicted  0.954132  0.757066  0.644136  0.768893  0.636063  0.675893   \n",
       "original   0.865424  0.961847  1.084066  0.861215  0.797719  1.065982   \n",
       "\n",
       "               6         7         8         9     ...     1990      1991  \\\n",
       "predicted  0.752013  1.006547  1.146262  1.010040  ...  1.04715  0.838355   \n",
       "original   0.675254  1.108805  0.700136  0.690437  ...      NaN       NaN   \n",
       "\n",
       "               1992      1993      1994      1995      1996     1997  \\\n",
       "predicted  1.158707  1.006676  1.096211  0.839612  0.938632  1.02734   \n",
       "original        NaN       NaN       NaN       NaN       NaN      NaN   \n",
       "\n",
       "               1998     1999  \n",
       "predicted  0.854552  0.61861  \n",
       "original        NaN      NaN  \n",
       "\n",
       "[2 rows x 2000 columns]"
      ]
     },
     "execution_count": 86,
     "metadata": {},
     "output_type": "execute_result"
    }
   ],
   "source": [
    "conclusion=pd.DataFrame([loaded_model.predict(X_train)[:],pred[:]],index=['predicted','original'])\n",
    "conclusion"
   ]
  },
  {
   "cell_type": "code",
   "execution_count": null,
   "id": "cf7feb7f",
   "metadata": {},
   "outputs": [],
   "source": []
  }
 ],
 "metadata": {
  "kernelspec": {
   "display_name": "Python 3 (ipykernel)",
   "language": "python",
   "name": "python3"
  },
  "language_info": {
   "codemirror_mode": {
    "name": "ipython",
    "version": 3
   },
   "file_extension": ".py",
   "mimetype": "text/x-python",
   "name": "python",
   "nbconvert_exporter": "python",
   "pygments_lexer": "ipython3",
   "version": "3.9.12"
  }
 },
 "nbformat": 4,
 "nbformat_minor": 5
}
